{
 "cells": [
  {
   "cell_type": "markdown",
   "id": "f26d3405",
   "metadata": {},
   "source": [
    "Exercise 2 - Create a markdown cell with the title of the notebook. (1 pt)"
   ]
  },
  {
   "cell_type": "markdown",
   "id": "d379e0f3",
   "metadata": {},
   "source": [
    "# Name: Peer-graded_Assignment_Submitting_My_Work"
   ]
  },
  {
   "cell_type": "markdown",
   "id": "958aa215",
   "metadata": {},
   "source": [
    "Exercise 3 -Create a markdown cell for an introduction. (1 pt)"
   ]
  },
  {
   "cell_type": "markdown",
   "id": "64ba3f4a",
   "metadata": {},
   "source": [
    "In this notebook, Data Science Tools and Ecosystem are summarized.\n",
    "\n",
    "Objectives:\n",
    "\n",
    "List popular languages that Data Scientists use.\n",
    "List commonly used libraries used by Data Scientists.\n",
    "Comment on Data Science tools."
   ]
  },
  {
   "cell_type": "markdown",
   "id": "610383a4",
   "metadata": {},
   "source": [
    "Exercise 4 - Create a markdown cell to list data science languages. (3 pts)"
   ]
  },
  {
   "cell_type": "markdown",
   "id": "fc97c30f",
   "metadata": {},
   "source": [
    "Some of the popular languages that Data Scientists use are:\n",
    "\n",
    "1.Python.\n",
    "2.R.\n",
    "3.SQL.\n",
    "4.Java.\n",
    "5.Julia.\n",
    "6.Scala.\n",
    "7.JavaScript"
   ]
  },
  {
   "cell_type": "markdown",
   "id": "50ef0d1c",
   "metadata": {},
   "source": [
    "Exercise 5 - Create a markdown cell to list data science libraries. (3 pts)"
   ]
  },
  {
   "cell_type": "markdown",
   "id": "b0b726fe",
   "metadata": {},
   "source": [
    "Some of the commonly used libraries used by Data Scientists include:\n",
    "\n",
    "1.TensorFlow.\n",
    "2.NumPy.\n",
    "3.Ramp\n",
    "4.Pandas.\n",
    "5.Keras\n",
    "6.Matplotlib.\n",
    "7.SciKit-Learn.\n",
    "8.PyTorch.\n",
    "9.Scrapy.\n",
    "10.BeautifulSoup.\n",
    "11.LightGBM.\n",
    "12.ELI5.\n",
    "13.Theano.\n",
    "14.NuPIC.\n",
    "15SciPy."
   ]
  },
  {
   "cell_type": "markdown",
   "id": "dce8ecb6",
   "metadata": {},
   "source": [
    "Exercise 6 - Create a markdown cell with a table of Data Science tools. (3 pts)"
   ]
  },
  {
   "cell_type": "markdown",
   "id": "7e211938",
   "metadata": {},
   "source": [
    "Data Science Tools:\n",
    "1.SAS. It is one of those data science tools which are specifically designed for statistical operation.\n",
    "2.Apache Spark.\n",
    "3.BigML"
   ]
  },
  {
   "cell_type": "markdown",
   "id": "291f4aaa",
   "metadata": {},
   "source": [
    "Exercise 7.Create a markdown cell introducing arithmetic expression examples."
   ]
  },
  {
   "cell_type": "code",
   "execution_count": 2,
   "id": "1dda47f2",
   "metadata": {},
   "outputs": [
    {
     "data": {
      "text/plain": [
       "9"
      ]
     },
     "execution_count": 2,
     "metadata": {},
     "output_type": "execute_result"
    }
   ],
   "source": [
    "# Arithmetic operations\n",
    "code = compile(\"5 + 4\", \"<string>\", \"eval\")\n",
    "eval(code)\n",
    "# Result: 9"
   ]
  },
  {
   "cell_type": "code",
   "execution_count": 3,
   "id": "8dbf289e",
   "metadata": {},
   "outputs": [
    {
     "data": {
      "text/plain": [
       "24"
      ]
     },
     "execution_count": 3,
     "metadata": {},
     "output_type": "execute_result"
    }
   ],
   "source": [
    "code1 = compile(\"(5 + 7) * 2\", \"<string>\", \"eval\")\n",
    "eval(code1)\n",
    "# Result: 24"
   ]
  },
  {
   "cell_type": "markdown",
   "id": "059ad7c8",
   "metadata": {},
   "source": [
    "Exercise 8 - Create a code cell to multiply and add numbers"
   ]
  },
  {
   "cell_type": "code",
   "execution_count": 4,
   "id": "9533658f",
   "metadata": {},
   "outputs": [
    {
     "data": {
      "text/plain": [
       "30"
      ]
     },
     "execution_count": 4,
     "metadata": {},
     "output_type": "execute_result"
    }
   ],
   "source": [
    "(5*5)+5\n",
    "# Result: 30"
   ]
  },
  {
   "cell_type": "markdown",
   "id": "ff69af63",
   "metadata": {},
   "source": [
    "Exercise 9 - Create a code cell to convert minutes to hours. (2 pts)"
   ]
  },
  {
   "cell_type": "markdown",
   "id": "055fb3bb",
   "metadata": {},
   "source": [
    "This will convert 400 minutes to hours by diving by 60"
   ]
  },
  {
   "cell_type": "code",
   "execution_count": 5,
   "id": "32f39a58",
   "metadata": {},
   "outputs": [
    {
     "name": "stdout",
     "output_type": "stream",
     "text": [
      "0 days, 6.666666666666667 hours, 0 mins. \n"
     ]
    }
   ],
   "source": [
    "days = 0\n",
    "hours = 0\n",
    "mins = 0\n",
    "\n",
    "time = 400\n",
    "#days = time / 1440\n",
    "leftover_minutes = time % 1440\n",
    "hours = leftover_minutes / 60\n",
    "#mins = time - (days*1440) - (hours*60)\n",
    "print(str(days) + \" days, \" + str(hours) + \" hours, \" + str(mins) +  \" mins. \")\n",
    "\n",
    "# Result: 6.666666666666667 hours"
   ]
  },
  {
   "cell_type": "markdown",
   "id": "4b256e5d",
   "metadata": {},
   "source": [
    "Exercise 10 -Insert a markdown cell to list Objectives."
   ]
  },
  {
   "cell_type": "markdown",
   "id": "046f6fc9",
   "metadata": {},
   "source": [
    "Create a new markdown cell underneath the introduction cell from Exercise 3 to identify the goals this notebook covers (i.e., some of the main lessons learned from the course). Start this new cell's\n",
    "introduction with the words \"Objectives\" in bold. Then, list 3 to 5 topics addressed in this notebook using an unordered list (bullets), such as\n",
    "\"List popular languages for Data Science.\""
   ]
  },
  {
   "cell_type": "markdown",
   "id": "a8754382",
   "metadata": {},
   "source": [
    "Exercise 11 - Create a markdown cell to indicate the Author’s name. (2 pts)"
   ]
  },
  {
   "cell_type": "markdown",
   "id": "a3ca0e26",
   "metadata": {},
   "source": [
    "Sudesh Subhash Kamble"
   ]
  },
  {
   "cell_type": "code",
   "execution_count": null,
   "id": "86bf3b8e",
   "metadata": {},
   "outputs": [],
   "source": []
  }
 ],
 "metadata": {
  "kernelspec": {
   "display_name": "Python 3 (ipykernel)",
   "language": "python",
   "name": "python3"
  },
  "language_info": {
   "codemirror_mode": {
    "name": "ipython",
    "version": 3
   },
   "file_extension": ".py",
   "mimetype": "text/x-python",
   "name": "python",
   "nbconvert_exporter": "python",
   "pygments_lexer": "ipython3",
   "version": "3.10.9"
  }
 },
 "nbformat": 4,
 "nbformat_minor": 5
}
